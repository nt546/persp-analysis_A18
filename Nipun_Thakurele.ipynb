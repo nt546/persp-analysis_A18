{
 "cells": [
  {
   "cell_type": "markdown",
   "metadata": {},
   "source": [
    "# Assignment #2\n",
    "## MACS 30000, Dr. Evans\n",
    "### Submitted by: Nipun Thakurele"
   ]
  },
  {
   "cell_type": "markdown",
   "metadata": {},
   "source": [
    "**Question 1**"
   ]
  },
  {
   "cell_type": "markdown",
   "metadata": {},
   "source": [
    "**1.a** \n",
    "For imputing age and gender variables into the BestIncome.txt data, we will use linear regression model on SurveyIncome.txt data. We will run a regression of age on total income and weight. Using the linear relationship obtained from regression, we will impute age variable into the BestIncome.txt data. Similarly, we will run a regression of female variable on total income and weight to obtain the linear relationship between them. Using the same relationship, we will impute the female variable into the BestIncome.txt data. Imputing female variable will automatically cater to requirement of imputing the gender variable.\n",
    "\n",
    "age = 2.52e-05*tot_inc - 0.0067*wgt + 44.2097\n",
    "female = -5.25e-06*tot_inc - 0.0195*wgt + 3.7611 \n",
    "(Note: these are female probabilities. If their value is >= 0 then gender is coded as female (1), else it is coded as male (0).\n",
    "where tot_inc is total income (dollars), wgt is weight (lbs.)\n",
    "\n"
   ]
  },
  {
   "cell_type": "code",
   "execution_count": 132,
   "metadata": {
    "collapsed": true,
    "scrolled": true
   },
   "outputs": [],
   "source": [
    "import pandas as pd\n",
    "import statsmodels.api as sm\n",
    "\n",
    "bf = pd.read_csv(r'C:\\Users\\Nipun\\persp-analysis_A18\\Assignments\\A2\\BestIncome.txt', index_col = 0, header = None).reset_index()\n",
    "bf.columns = ['lab_inc', 'cap_inc', 'hgt', 'wgt']\n",
    "\n",
    "sf = pd.read_csv(r'C:\\Users\\Nipun\\persp-analysis_A18\\Assignments\\A2\\SurvIncome.txt', index_col = 0, header = None).reset_index()\n",
    "sf.columns = ['tot_inc', 'wgt', 'age', 'female']\n",
    "\n",
    "outcome_1  = 'age'\n",
    "features = ['tot_inc', 'wgt']\n",
    "\n",
    "x, y= sf[features], sf[outcome_1]\n",
    "x_vars = x[['tot_inc', 'wgt']]\n",
    "\n",
    "\n",
    "x_vars = sm.add_constant(x_vars, prepend=False)\n",
    "x_vars.head()\n",
    "m = sm.OLS(y, x_vars)\n",
    "res = m.fit()\n",
    "#print(res.summary())\n",
    "\n",
    "ols_sf = pd.concat([y, x], axis=1)\n",
    "#ols_sf.head()"
   ]
  },
  {
   "cell_type": "code",
   "execution_count": 141,
   "metadata": {
    "collapsed": true
   },
   "outputs": [],
   "source": [
    "outcome_2  = 'female'\n",
    "z= sf[outcome_2]\n",
    "n = sm.OLS(z, x_vars)\n",
    "res = n.fit()\n",
    "#print(res.summary())\n",
    "\n",
    "ols_sf = pd.concat([z, x], axis=1)\n",
    "#ols_sf.head()"
   ]
  },
  {
   "cell_type": "markdown",
   "metadata": {},
   "source": [
    "**1.b** Imputing age into BestIncome.txt data"
   ]
  },
  {
   "cell_type": "code",
   "execution_count": 134,
   "metadata": {
    "collapsed": true,
    "scrolled": false
   },
   "outputs": [],
   "source": [
    "def get_age(row):\n",
    "    \n",
    "    lab_inc = row[0]\n",
    "    cap_inc = row[1]\n",
    "    wgt = row[3]\n",
    "    tot_inc = lab_inc + cap_inc\n",
    "    age = (2.52e-05*tot_inc) - (0.0067*wgt) + 44.2097\n",
    "    return age\n",
    "\n",
    "\n",
    "bf['imputed_age'] = bf.apply(get_age, axis = 1)\n",
    "#bf.head()"
   ]
  },
  {
   "cell_type": "markdown",
   "metadata": {},
   "source": [
    "Imputing gender into BestIncome.txt data\n",
    "Note: 1 denotes female while 0 denotes male"
   ]
  },
  {
   "cell_type": "code",
   "execution_count": 135,
   "metadata": {
    "collapsed": true,
    "scrolled": true
   },
   "outputs": [],
   "source": [
    "def get_gender(row):\n",
    "    \n",
    "    lab_inc = row[0]\n",
    "    cap_inc = row[1]\n",
    "    wgt = row[3]\n",
    "    tot_inc = lab_inc + cap_inc\n",
    "    female = (-5.25e-06*tot_inc) - (0.0195*wgt) + 3.7611\n",
    "    if female >= 0.5:\n",
    "        return 1\n",
    "    return 0\n",
    "\n",
    "\n",
    "bf['imputed_female'] = bf.apply(get_gender, axis = 1)\n",
    "#bf.head()\n"
   ]
  },
  {
   "cell_type": "markdown",
   "metadata": {},
   "source": [
    "**1.c**"
   ]
  },
  {
   "cell_type": "code",
   "execution_count": 136,
   "metadata": {
    "collapsed": true
   },
   "outputs": [],
   "source": [
    "bf['imputed_age'].describe()[['count','mean','std','min','max']];"
   ]
  },
  {
   "cell_type": "markdown",
   "metadata": {},
   "source": [
    "Summary data of imputed age variable:\n",
    "count    10000.000000\n",
    "mean        44.894036\n",
    "std          0.219066\n",
    "min         43.980016\n",
    "max         45.706849"
   ]
  },
  {
   "cell_type": "code",
   "execution_count": 137,
   "metadata": {
    "collapsed": true
   },
   "outputs": [],
   "source": [
    "bf['imputed_female'].describe()[['count','mean','std','min','max']];"
   ]
  },
  {
   "cell_type": "markdown",
   "metadata": {},
   "source": [
    "Summary data of gender(female) variable:\n",
    "count    10000.000000\n",
    "mean         0.470500\n",
    "std          0.499154\n",
    "min          0.000000\n",
    "max          1.000000\n",
    "    "
   ]
  },
  {
   "cell_type": "code",
   "execution_count": null,
   "metadata": {
    "collapsed": true
   },
   "outputs": [],
   "source": [
    "**Part d** Correlation Matrix\n",
    "\n"
   ]
  },
  {
   "cell_type": "code",
   "execution_count": 138,
   "metadata": {
    "collapsed": true,
    "scrolled": false
   },
   "outputs": [],
   "source": [
    "bf.corr();\n"
   ]
  },
  {
   "cell_type": "markdown",
   "metadata": {
    "scrolled": false
   },
   "source": [
    "<img src=\"Correlation.PNG\">"
   ]
  },
  {
   "cell_type": "markdown",
   "metadata": {},
   "source": [
    "# Question 2"
   ]
  },
  {
   "cell_type": "code",
   "execution_count": 158,
   "metadata": {},
   "outputs": [
    {
     "data": {
      "text/html": [
       "<div>\n",
       "<style>\n",
       "    .dataframe thead tr:only-child th {\n",
       "        text-align: right;\n",
       "    }\n",
       "\n",
       "    .dataframe thead th {\n",
       "        text-align: left;\n",
       "    }\n",
       "\n",
       "    .dataframe tbody tr th {\n",
       "        vertical-align: top;\n",
       "    }\n",
       "</style>\n",
       "<table border=\"1\" class=\"dataframe\">\n",
       "  <thead>\n",
       "    <tr style=\"text-align: right;\">\n",
       "      <th></th>\n",
       "      <th>grad_year</th>\n",
       "      <th>gre_qnt</th>\n",
       "      <th>salary_p4</th>\n",
       "    </tr>\n",
       "  </thead>\n",
       "  <tbody>\n",
       "    <tr>\n",
       "      <th>0</th>\n",
       "      <td>2001.0</td>\n",
       "      <td>739.737072</td>\n",
       "      <td>67400.475185</td>\n",
       "    </tr>\n",
       "    <tr>\n",
       "      <th>1</th>\n",
       "      <td>2001.0</td>\n",
       "      <td>721.811673</td>\n",
       "      <td>67600.584142</td>\n",
       "    </tr>\n",
       "    <tr>\n",
       "      <th>2</th>\n",
       "      <td>2001.0</td>\n",
       "      <td>736.277908</td>\n",
       "      <td>58704.880589</td>\n",
       "    </tr>\n",
       "    <tr>\n",
       "      <th>3</th>\n",
       "      <td>2001.0</td>\n",
       "      <td>770.498485</td>\n",
       "      <td>64707.290345</td>\n",
       "    </tr>\n",
       "    <tr>\n",
       "      <th>4</th>\n",
       "      <td>2001.0</td>\n",
       "      <td>735.002861</td>\n",
       "      <td>51737.324165</td>\n",
       "    </tr>\n",
       "  </tbody>\n",
       "</table>\n",
       "</div>"
      ],
      "text/plain": [
       "   grad_year     gre_qnt     salary_p4\n",
       "0     2001.0  739.737072  67400.475185\n",
       "1     2001.0  721.811673  67600.584142\n",
       "2     2001.0  736.277908  58704.880589\n",
       "3     2001.0  770.498485  64707.290345\n",
       "4     2001.0  735.002861  51737.324165"
      ]
     },
     "execution_count": 158,
     "metadata": {},
     "output_type": "execute_result"
    }
   ],
   "source": [
    "import pandas as pd\n",
    "import statsmodels.api as sm\n",
    "import matplotlib.pyplot as plt\n",
    "gf = pd.read_csv(r'C:\\Users\\Nipun\\persp-analysis_A18\\Assignments\\A2\\IncomeIntel.txt', index_col = 0, header = None).reset_index()\n",
    "gf.shape\n",
    "gf.columns = ['grad_year', 'gre_qnt', 'salary_p4']\n",
    "gf.head()\n",
    "#gf.describe()"
   ]
  },
  {
   "cell_type": "code",
   "execution_count": 175,
   "metadata": {},
   "outputs": [
    {
     "name": "stdout",
     "output_type": "stream",
     "text": [
      "                            OLS Regression Results                            \n",
      "==============================================================================\n",
      "Dep. Variable:              salary_p4   R-squared:                       0.263\n",
      "Model:                            OLS   Adj. R-squared:                  0.262\n",
      "Method:                 Least Squares   F-statistic:                     356.3\n",
      "Date:                Wed, 17 Oct 2018   Prob (F-statistic):           3.43e-68\n",
      "Time:                        13:17:03   Log-Likelihood:                -10673.\n",
      "No. Observations:                1000   AIC:                         2.135e+04\n",
      "Df Residuals:                     998   BIC:                         2.136e+04\n",
      "Df Model:                           1                                         \n",
      "Covariance Type:            nonrobust                                         \n",
      "==============================================================================\n",
      "                 coef    std err          t      P>|t|      [0.025      0.975]\n",
      "------------------------------------------------------------------------------\n",
      "gre_qnt      -25.7632      1.365    -18.875      0.000     -28.442     -23.085\n",
      "const       8.954e+04    878.764    101.895      0.000    8.78e+04    9.13e+04\n",
      "==============================================================================\n",
      "Omnibus:                        9.118   Durbin-Watson:                   1.424\n",
      "Prob(Omnibus):                  0.010   Jarque-Bera (JB):                9.100\n",
      "Skew:                           0.230   Prob(JB):                       0.0106\n",
      "Kurtosis:                       3.077   Cond. No.                     1.71e+03\n",
      "==============================================================================\n",
      "\n",
      "Warnings:\n",
      "[1] Standard Errors assume that the covariance matrix of the errors is correctly specified.\n",
      "[2] The condition number is large, 1.71e+03. This might indicate that there are\n",
      "strong multicollinearity or other numerical problems.\n"
     ]
    },
    {
     "data": {
      "text/html": [
       "<div>\n",
       "<style>\n",
       "    .dataframe thead tr:only-child th {\n",
       "        text-align: right;\n",
       "    }\n",
       "\n",
       "    .dataframe thead th {\n",
       "        text-align: left;\n",
       "    }\n",
       "\n",
       "    .dataframe tbody tr th {\n",
       "        vertical-align: top;\n",
       "    }\n",
       "</style>\n",
       "<table border=\"1\" class=\"dataframe\">\n",
       "  <thead>\n",
       "    <tr style=\"text-align: right;\">\n",
       "      <th></th>\n",
       "      <th>salary_p4</th>\n",
       "      <th>gre_qnt</th>\n",
       "    </tr>\n",
       "  </thead>\n",
       "  <tbody>\n",
       "    <tr>\n",
       "      <th>0</th>\n",
       "      <td>67400.475185</td>\n",
       "      <td>739.737072</td>\n",
       "    </tr>\n",
       "    <tr>\n",
       "      <th>1</th>\n",
       "      <td>67600.584142</td>\n",
       "      <td>721.811673</td>\n",
       "    </tr>\n",
       "    <tr>\n",
       "      <th>2</th>\n",
       "      <td>58704.880589</td>\n",
       "      <td>736.277908</td>\n",
       "    </tr>\n",
       "    <tr>\n",
       "      <th>3</th>\n",
       "      <td>64707.290345</td>\n",
       "      <td>770.498485</td>\n",
       "    </tr>\n",
       "    <tr>\n",
       "      <th>4</th>\n",
       "      <td>51737.324165</td>\n",
       "      <td>735.002861</td>\n",
       "    </tr>\n",
       "  </tbody>\n",
       "</table>\n",
       "</div>"
      ],
      "text/plain": [
       "      salary_p4     gre_qnt\n",
       "0  67400.475185  739.737072\n",
       "1  67600.584142  721.811673\n",
       "2  58704.880589  736.277908\n",
       "3  64707.290345  770.498485\n",
       "4  51737.324165  735.002861"
      ]
     },
     "execution_count": 175,
     "metadata": {},
     "output_type": "execute_result"
    }
   ],
   "source": [
    "outcome  = 'salary_p4'\n",
    "features = ['gre_qnt']\n",
    "x, y = gf[features], gf[outcome]\n",
    "x_vars = x[['gre_qnt']]\n",
    "x_vars.head()\n",
    "x_vars = sm.add_constant(x_vars, prepend=False)\n",
    "x_vars.head()\n",
    "m = sm.OLS(y, x_vars)\n",
    "res = m.fit()\n",
    "print(res.summary())\n",
    "ols_gf = pd.concat([y, x], axis=1)\n",
    "ols_gf.head()\n"
   ]
  },
  {
   "cell_type": "markdown",
   "metadata": {},
   "source": [
    "|       |  coef  | std err |\n",
    "|-------|--------|---------|\n",
    "|gre_qnt|-25.7632| 1.365   |\n",
    "| const |8.95e+04| 878.764 |"
   ]
  },
  {
   "cell_type": "code",
   "execution_count": null,
   "metadata": {
    "collapsed": true
   },
   "outputs": [],
   "source": [
    "**2.b**"
   ]
  },
  {
   "cell_type": "code",
   "execution_count": 153,
   "metadata": {},
   "outputs": [
    {
     "data": {
      "image/png": "[encoded data removed]",
      "text/plain": [
       "<matplotlib.figure.Figure at 0x1b5f7dd7198>"
      ]
     },
     "metadata": {},
     "output_type": "display_data"
    }
   ],
   "source": [
    "# Make scatterplot of graduation year on gre quant\n",
    "# simple scatterplot using matplotlib\n",
    "grad_yr = gf['grad_year']\n",
    "gre_quant = gf['gre_qnt']\n",
    "gf.plot(x='grad_year', y='gre_qnt', kind='scatter')\n",
    "plt.show()"
   ]
  },
  {
   "cell_type": "code",
   "execution_count": null,
   "metadata": {
    "collapsed": true
   },
   "outputs": [],
   "source": [
    "The above scatterplot points towards a non-linear relationship between gre_qnt and grad_year variables which violates the\n",
    "assumptions of linear regression. This is possibly because of the two different scales to measure gre_qnt scores. Prior to 2011, \n",
    "gre_qnt was from 200-800, after which it is 130-170 range. We propose rescaling of the old scores:\n",
    "    new_score = (old_score - 200)*(1/15) + 130 "
   ]
  },
  {
   "cell_type": "code",
   "execution_count": 162,
   "metadata": {},
   "outputs": [
    {
     "data": {
      "text/html": [
       "<div>\n",
       "<style>\n",
       "    .dataframe thead tr:only-child th {\n",
       "        text-align: right;\n",
       "    }\n",
       "\n",
       "    .dataframe thead th {\n",
       "        text-align: left;\n",
       "    }\n",
       "\n",
       "    .dataframe tbody tr th {\n",
       "        vertical-align: top;\n",
       "    }\n",
       "</style>\n",
       "<table border=\"1\" class=\"dataframe\">\n",
       "  <thead>\n",
       "    <tr style=\"text-align: right;\">\n",
       "      <th></th>\n",
       "      <th>grad_year</th>\n",
       "      <th>gre_qnt</th>\n",
       "      <th>salary_p4</th>\n",
       "      <th>adjusted_scores</th>\n",
       "    </tr>\n",
       "  </thead>\n",
       "  <tbody>\n",
       "    <tr>\n",
       "      <th>0</th>\n",
       "      <td>2001.0</td>\n",
       "      <td>739.737072</td>\n",
       "      <td>67400.475185</td>\n",
       "      <td>165.982471</td>\n",
       "    </tr>\n",
       "    <tr>\n",
       "      <th>1</th>\n",
       "      <td>2001.0</td>\n",
       "      <td>721.811673</td>\n",
       "      <td>67600.584142</td>\n",
       "      <td>164.787445</td>\n",
       "    </tr>\n",
       "    <tr>\n",
       "      <th>2</th>\n",
       "      <td>2001.0</td>\n",
       "      <td>736.277908</td>\n",
       "      <td>58704.880589</td>\n",
       "      <td>165.751861</td>\n",
       "    </tr>\n",
       "    <tr>\n",
       "      <th>3</th>\n",
       "      <td>2001.0</td>\n",
       "      <td>770.498485</td>\n",
       "      <td>64707.290345</td>\n",
       "      <td>168.033232</td>\n",
       "    </tr>\n",
       "    <tr>\n",
       "      <th>4</th>\n",
       "      <td>2001.0</td>\n",
       "      <td>735.002861</td>\n",
       "      <td>51737.324165</td>\n",
       "      <td>165.666857</td>\n",
       "    </tr>\n",
       "  </tbody>\n",
       "</table>\n",
       "</div>"
      ],
      "text/plain": [
       "   grad_year     gre_qnt     salary_p4  adjusted_scores\n",
       "0     2001.0  739.737072  67400.475185       165.982471\n",
       "1     2001.0  721.811673  67600.584142       164.787445\n",
       "2     2001.0  736.277908  58704.880589       165.751861\n",
       "3     2001.0  770.498485  64707.290345       168.033232\n",
       "4     2001.0  735.002861  51737.324165       165.666857"
      ]
     },
     "execution_count": 162,
     "metadata": {},
     "output_type": "execute_result"
    }
   ],
   "source": [
    "def get_newscores(row):\n",
    "    \n",
    "    if row[0] < 2011:\n",
    "        return (row[1] - 200)*(1/15) + 130 \n",
    "    return row[1]\n",
    "\n",
    "gf['adjusted_scores'] = gf.apply(get_newscores, axis = 1)\n",
    "gf.head()"
   ]
  },
  {
   "cell_type": "code",
   "execution_count": null,
   "metadata": {
    "collapsed": true
   },
   "outputs": [],
   "source": [
    "**2.c**"
   ]
  },
  {
   "cell_type": "code",
   "execution_count": 163,
   "metadata": {
    "scrolled": true
   },
   "outputs": [
    {
     "data": {
      "image/png": "[encoded data removed]",
      "text/plain": [
       "<matplotlib.figure.Figure at 0x1b5f7e562e8>"
      ]
     },
     "metadata": {},
     "output_type": "display_data"
    }
   ],
   "source": [
    "# Make scatterplot of graduation year on salary_p4\n",
    "# simple scatterplot using matplotlib\n",
    "grad_yr = gf['grad_year']\n",
    "salary_p4 = gf['salary_p4']\n",
    "gf.plot(x='grad_year', y='salary_p4', kind='scatter')\n",
    "plt.show()"
   ]
  },
  {
   "cell_type": "code",
   "execution_count": null,
   "metadata": {
    "collapsed": true
   },
   "outputs": [],
   "source": [
    "The above scatterplot violates the assumption of linear regression, as there is autocorrelation in the data. The salaries\n",
    "have been changing across years, and we propose "
   ]
  },
  {
   "cell_type": "code",
   "execution_count": 172,
   "metadata": {},
   "outputs": [
    {
     "data": {
      "text/html": [
       "<div>\n",
       "<style>\n",
       "    .dataframe thead tr:only-child th {\n",
       "        text-align: right;\n",
       "    }\n",
       "\n",
       "    .dataframe thead th {\n",
       "        text-align: left;\n",
       "    }\n",
       "\n",
       "    .dataframe tbody tr th {\n",
       "        vertical-align: top;\n",
       "    }\n",
       "</style>\n",
       "<table border=\"1\" class=\"dataframe\">\n",
       "  <thead>\n",
       "    <tr style=\"text-align: right;\">\n",
       "      <th></th>\n",
       "      <th>grad_year</th>\n",
       "      <th>gre_qnt</th>\n",
       "      <th>salary_p4</th>\n",
       "      <th>adjusted_scores</th>\n",
       "      <th>adjusted_salary</th>\n",
       "    </tr>\n",
       "  </thead>\n",
       "  <tbody>\n",
       "    <tr>\n",
       "      <th>0</th>\n",
       "      <td>2001.0</td>\n",
       "      <td>739.737072</td>\n",
       "      <td>67400.475185</td>\n",
       "      <td>165.982471</td>\n",
       "      <td>67400.475185</td>\n",
       "    </tr>\n",
       "    <tr>\n",
       "      <th>1</th>\n",
       "      <td>2001.0</td>\n",
       "      <td>721.811673</td>\n",
       "      <td>67600.584142</td>\n",
       "      <td>164.787445</td>\n",
       "      <td>67600.584142</td>\n",
       "    </tr>\n",
       "    <tr>\n",
       "      <th>2</th>\n",
       "      <td>2001.0</td>\n",
       "      <td>736.277908</td>\n",
       "      <td>58704.880589</td>\n",
       "      <td>165.751861</td>\n",
       "      <td>58704.880589</td>\n",
       "    </tr>\n",
       "    <tr>\n",
       "      <th>3</th>\n",
       "      <td>2001.0</td>\n",
       "      <td>770.498485</td>\n",
       "      <td>64707.290345</td>\n",
       "      <td>168.033232</td>\n",
       "      <td>64707.290345</td>\n",
       "    </tr>\n",
       "    <tr>\n",
       "      <th>4</th>\n",
       "      <td>2001.0</td>\n",
       "      <td>735.002861</td>\n",
       "      <td>51737.324165</td>\n",
       "      <td>165.666857</td>\n",
       "      <td>51737.324165</td>\n",
       "    </tr>\n",
       "  </tbody>\n",
       "</table>\n",
       "</div>"
      ],
      "text/plain": [
       "   grad_year     gre_qnt     salary_p4  adjusted_scores  adjusted_salary\n",
       "0     2001.0  739.737072  67400.475185       165.982471     67400.475185\n",
       "1     2001.0  721.811673  67600.584142       164.787445     67600.584142\n",
       "2     2001.0  736.277908  58704.880589       165.751861     58704.880589\n",
       "3     2001.0  770.498485  64707.290345       168.033232     64707.290345\n",
       "4     2001.0  735.002861  51737.324165       165.666857     51737.324165"
      ]
     },
     "execution_count": 172,
     "metadata": {},
     "output_type": "execute_result"
    }
   ],
   "source": [
    "avg_inc_by_year = gf['salary_p4'].groupby(gf['grad_year']).mean().values\n",
    "avg_growth_rate = ((avg_inc_by_year[1:] - avg_inc_by_year[:-1]) / avg_inc_by_year[:-1]).mean()\n",
    "\n",
    "def get_growth(row):\n",
    "    return row[2]/((1 + avg_growth_rate) ** (row[0] - 2001))\n",
    "\n",
    "gf['adjusted_salary'] = gf.apply(get_growth, axis = 1)\n",
    "gf.head()"
   ]
  },
  {
   "cell_type": "code",
   "execution_count": null,
   "metadata": {
    "collapsed": true
   },
   "outputs": [],
   "source": [
    "**2.d**"
   ]
  },
  {
   "cell_type": "code",
   "execution_count": 176,
   "metadata": {},
   "outputs": [
    {
     "name": "stdout",
     "output_type": "stream",
     "text": [
      "                            OLS Regression Results                            \n",
      "==============================================================================\n",
      "Dep. Variable:        adjusted_salary   R-squared:                       0.000\n",
      "Model:                            OLS   Adj. R-squared:                 -0.001\n",
      "Method:                 Least Squares   F-statistic:                   0.05257\n",
      "Date:                Wed, 17 Oct 2018   Prob (F-statistic):              0.819\n",
      "Time:                        21:13:13   Log-Likelihood:                -10291.\n",
      "No. Observations:                1000   AIC:                         2.059e+04\n",
      "Df Residuals:                     998   BIC:                         2.060e+04\n",
      "Df Model:                           1                                         \n",
      "Covariance Type:            nonrobust                                         \n",
      "===================================================================================\n",
      "                      coef    std err          t      P>|t|      [0.025      0.975]\n",
      "-----------------------------------------------------------------------------------\n",
      "adjusted_scores    -9.9681     43.474     -0.229      0.819     -95.279      75.343\n",
      "const            6.304e+04   7083.395      8.900      0.000    4.91e+04    7.69e+04\n",
      "==============================================================================\n",
      "Omnibus:                        0.757   Durbin-Watson:                   2.026\n",
      "Prob(Omnibus):                  0.685   Jarque-Bera (JB):                0.668\n",
      "Skew:                           0.059   Prob(JB):                        0.716\n",
      "Kurtosis:                       3.048   Cond. No.                     5.11e+03\n",
      "==============================================================================\n",
      "\n",
      "Warnings:\n",
      "[1] Standard Errors assume that the covariance matrix of the errors is correctly specified.\n",
      "[2] The condition number is large, 5.11e+03. This might indicate that there are\n",
      "strong multicollinearity or other numerical problems.\n"
     ]
    }
   ],
   "source": [
    "outcome  = 'adjusted_salary'\n",
    "features = ['adjusted_scores']\n",
    "x, y = gf[features], gf[outcome]\n",
    "x_vars = x[['adjusted_scores']]\n",
    "x_vars.head()\n",
    "x_vars = sm.add_constant(x_vars, prepend=False)\n",
    "x_vars.head()\n",
    "m = sm.OLS(y, x_vars)\n",
    "res = m.fit()\n",
    "print(res.summary())\n",
    "ols_gf = pd.concat([y, x], axis=1)\n",
    "#ols_gf.head()"
   ]
  },
  {
   "cell_type": "markdown",
   "metadata": {},
   "source": [
    "|                 |   coef  |  std err |\n",
    "|-----------------|---------|----------|\n",
    "| adjusted_scores | -9.9681 |  43.474  |\n",
    "|      const      |6.304e+04| 7083.395 |"
   ]
  },
  {
   "cell_type": "code",
   "execution_count": null,
   "metadata": {
    "collapsed": true
   },
   "outputs": [],
   "source": [
    "The coefficient have changed and also the accompanying standard errors have increased a lot. The variables are not statistically\n",
    "significant, p - value > 0.05, hence the null hypothesis that \"higher intelligence is not associated with higher income\" \n",
    "is not true. Hence, we reject the null hypothesis. "
   ]
  },
  {
   "cell_type": "code",
   "execution_count": null,
   "metadata": {
    "collapsed": true
   },
   "outputs": [],
   "source": [
    "**Question 3**"
   ]
  },
  {
   "cell_type": "code",
   "execution_count": null,
   "metadata": {
    "collapsed": true
   },
   "outputs": [],
   "source": [
    "**3.a** The research question of the paper is, \"On what grounds, then, do individuals selectively make or break some tie\n",
    "over others, and how do these choices shed light on the observation that similar people are more likely to become acquainted\n",
    "than dissimilar people?\""
   ]
  },
  {
   "cell_type": "code",
   "execution_count": null,
   "metadata": {
    "collapsed": true
   },
   "outputs": [],
   "source": [
    "**3.b**\n",
    "The research paper used a network dataset comprising 30396 undergraduate and graduate students, faculty, and staff,\n",
    "in a large university community who used their university e-mail accounts to both send and receive messages during an academic\n",
    "year. They recorded the network interactions in real time along with individual attributes and features of the \n",
    "relevant organizational structure. The dataset comprised of interaction, affiliation, and attribute-type longitudinal data,\n",
    "and was constructed by merging three different databases: \n",
    "    (1) the logs of e-mail interactions within the university over one academic year, \n",
    "    (2) a database of individual attributes (status, gender, age, department, number of years in the community, etc.), and\n",
    "    (3) records of course registration, in which courses were recorded separately for each semester.\n",
    "\n",
    "The population of 30,396 selected individuals was a mix of undergraduate students (21%), graduate and professional students (27%),\n",
    "faculty members (13%), administrators and staff (13.4%), and finally “affiliates” (25%), a category that included postdoctoral \n",
    "researchers, visiting scholars, exchange students, and recent alumni. For each e-mail message sent within the university \n",
    "community, they obtained the time stamp (in minutes since the start of data collection), the sender ID, and the IDs of all \n",
    "recipients of the message, extracted from the mail server logs and were appropriately anonymized without deleting the content.  \n",
    "\n",
    "The number of observations reduced after cleaning the data by only including messages sent only to a single recipient to \n",
    "ensure that the data represented interpersonal communication. The resulting data set comprised 7,156,162 messages \n",
    "exchanged by 30,396 stable e-mail users during 270 days of observation. The full dataset spanned two calendar years, or six\n",
    "academic semesters though the analysis in the article report only one academic year’s worth of data.\n",
    "\n",
    "The definitions and descriptions of all variables are included in Appendix A."
   ]
  },
  {
   "cell_type": "code",
   "execution_count": null,
   "metadata": {
    "collapsed": true
   },
   "outputs": [],
   "source": [
    "**3.c**\n",
    "As a part of data cleaning, the researchers included only the email accounts which were on the central university server.\n",
    "But, as they note, a number of persons also used departmental email accounts such as xyz@department.university.edu\n",
    "(mostly the faculty and graduate students in departments such as computer science, mathematics, and physics). They left them out\n",
    "from the dataset as they couldnot match them with employee records.\n",
    "By not considering the departmental email accounts, they missed on a relevant portion of university network community. There\n",
    "could have been significant number of email exchanges on these email accounts, which could reduce the strength of their claim.\n",
    "Hence, the scope of their analysis got reduced in comparison to what the original scope of research could have been.\n",
    "\n"
   ]
  },
  {
   "cell_type": "code",
   "execution_count": null,
   "metadata": {
    "collapsed": true
   },
   "outputs": [],
   "source": [
    "**3.d**\n",
    "To understand the origins of homophily, researchers need many tie formation events, which are rare in their dataset.\n",
    "The authors tackle this problem by employing the case-control sampling methodology (King and Zeng 2001, 2002). \n",
    "For each type of transition, and for each daily network snapshot, the authors determine the appropriate “risk sets” of \n",
    "pairs of nodes that could experience the transition (for tie formation, all pairs not currently connected; \n",
    "for tie dissolution, all current ties). Then they sampled a total of about 100,000 cases (pairs that actually experienced\n",
    "the transition) over the 210-day period as well as twice that number of controls (pairs from the risk set that did not \n",
    "experience the transition of interest—e.g., for the dissolution example, ties that did not dissolve). Using the case-control\n",
    "weights, allowed the researchers to compute transition probabilities and fit logistic regression\n",
    "models efficiently (King and Zeng 2002)."
   ]
  }
 ],
 "metadata": {
  "kernelspec": {
   "display_name": "Python 3",
   "language": "python",
   "name": "python3"
  },
  "language_info": {
   "codemirror_mode": {
    "name": "ipython",
    "version": 3
   },
   "file_extension": ".py",
   "mimetype": "text/x-python",
   "name": "python",
   "nbconvert_exporter": "python",
   "pygments_lexer": "ipython3",
   "version": "3.6.3"
  }
 },
 "nbformat": 4,
 "nbformat_minor": 2
}
